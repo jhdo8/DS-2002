{
 "cells": [
  {
   "cell_type": "code",
   "execution_count": 9,
   "id": "2ddffe83",
   "metadata": {},
   "outputs": [
    {
     "data": {
      "text/html": [
       "<div>\n",
       "<style scoped>\n",
       "    .dataframe tbody tr th:only-of-type {\n",
       "        vertical-align: middle;\n",
       "    }\n",
       "\n",
       "    .dataframe tbody tr th {\n",
       "        vertical-align: top;\n",
       "    }\n",
       "\n",
       "    .dataframe thead th {\n",
       "        text-align: right;\n",
       "    }\n",
       "</style>\n",
       "<table border=\"1\" class=\"dataframe\">\n",
       "  <thead>\n",
       "    <tr style=\"text-align: right;\">\n",
       "      <th></th>\n",
       "      <th>Rk</th>\n",
       "      <th>Player</th>\n",
       "      <th>Class</th>\n",
       "      <th>Pos</th>\n",
       "      <th>School</th>\n",
       "      <th>G</th>\n",
       "      <th>MP</th>\n",
       "      <th>TRB</th>\n",
       "      <th>AST</th>\n",
       "      <th>STL</th>\n",
       "      <th>...</th>\n",
       "      <th>TOV</th>\n",
       "      <th>PF</th>\n",
       "      <th>PTS</th>\n",
       "      <th>FG%</th>\n",
       "      <th>2P%</th>\n",
       "      <th>3P%</th>\n",
       "      <th>FT%</th>\n",
       "      <th>PER</th>\n",
       "      <th>WS</th>\n",
       "      <th>BPM</th>\n",
       "    </tr>\n",
       "  </thead>\n",
       "  <tbody>\n",
       "    <tr>\n",
       "      <th>0</th>\n",
       "      <td>1</td>\n",
       "      <td>Amaree Abram</td>\n",
       "      <td>SO</td>\n",
       "      <td>G</td>\n",
       "      <td>Georgia Tech</td>\n",
       "      <td>10</td>\n",
       "      <td>108</td>\n",
       "      <td>17</td>\n",
       "      <td>11</td>\n",
       "      <td>1</td>\n",
       "      <td>...</td>\n",
       "      <td>9</td>\n",
       "      <td>10</td>\n",
       "      <td>34</td>\n",
       "      <td>0.262</td>\n",
       "      <td>0.318</td>\n",
       "      <td>0.200</td>\n",
       "      <td>0.615</td>\n",
       "      <td>4.1</td>\n",
       "      <td>-0.1</td>\n",
       "      <td>-6.4</td>\n",
       "    </tr>\n",
       "    <tr>\n",
       "      <th>1</th>\n",
       "      <td>2</td>\n",
       "      <td>Sola Adebisi</td>\n",
       "      <td>FR</td>\n",
       "      <td>F</td>\n",
       "      <td>Florida State</td>\n",
       "      <td>7</td>\n",
       "      <td>9</td>\n",
       "      <td>1</td>\n",
       "      <td>1</td>\n",
       "      <td>0</td>\n",
       "      <td>...</td>\n",
       "      <td>1</td>\n",
       "      <td>1</td>\n",
       "      <td>2</td>\n",
       "      <td>0.500</td>\n",
       "      <td>0.500</td>\n",
       "      <td>NaN</td>\n",
       "      <td>NaN</td>\n",
       "      <td>3.5</td>\n",
       "      <td>0.0</td>\n",
       "      <td>-6.7</td>\n",
       "    </tr>\n",
       "    <tr>\n",
       "      <th>2</th>\n",
       "      <td>3</td>\n",
       "      <td>Prince Aligbe</td>\n",
       "      <td>SO</td>\n",
       "      <td>F</td>\n",
       "      <td>Boston College</td>\n",
       "      <td>35</td>\n",
       "      <td>651</td>\n",
       "      <td>119</td>\n",
       "      <td>21</td>\n",
       "      <td>15</td>\n",
       "      <td>...</td>\n",
       "      <td>30</td>\n",
       "      <td>51</td>\n",
       "      <td>164</td>\n",
       "      <td>0.435</td>\n",
       "      <td>0.522</td>\n",
       "      <td>0.147</td>\n",
       "      <td>0.620</td>\n",
       "      <td>9.4</td>\n",
       "      <td>0.9</td>\n",
       "      <td>-1.3</td>\n",
       "    </tr>\n",
       "    <tr>\n",
       "      <th>3</th>\n",
       "      <td>4</td>\n",
       "      <td>Abe Atiyeh</td>\n",
       "      <td>SR</td>\n",
       "      <td>G</td>\n",
       "      <td>Boston College</td>\n",
       "      <td>4</td>\n",
       "      <td>6</td>\n",
       "      <td>0</td>\n",
       "      <td>0</td>\n",
       "      <td>0</td>\n",
       "      <td>...</td>\n",
       "      <td>1</td>\n",
       "      <td>0</td>\n",
       "      <td>3</td>\n",
       "      <td>0.333</td>\n",
       "      <td>0.000</td>\n",
       "      <td>1.000</td>\n",
       "      <td>NaN</td>\n",
       "      <td>1.1</td>\n",
       "      <td>0.0</td>\n",
       "      <td>-8.2</td>\n",
       "    </tr>\n",
       "    <tr>\n",
       "      <th>4</th>\n",
       "      <td>5</td>\n",
       "      <td>Zack Austin</td>\n",
       "      <td>JR</td>\n",
       "      <td>F</td>\n",
       "      <td>Pittsburgh</td>\n",
       "      <td>33</td>\n",
       "      <td>746</td>\n",
       "      <td>137</td>\n",
       "      <td>29</td>\n",
       "      <td>32</td>\n",
       "      <td>...</td>\n",
       "      <td>13</td>\n",
       "      <td>35</td>\n",
       "      <td>216</td>\n",
       "      <td>0.417</td>\n",
       "      <td>0.563</td>\n",
       "      <td>0.295</td>\n",
       "      <td>0.737</td>\n",
       "      <td>18.0</td>\n",
       "      <td>2.9</td>\n",
       "      <td>7.9</td>\n",
       "    </tr>\n",
       "  </tbody>\n",
       "</table>\n",
       "<p>5 rows × 21 columns</p>\n",
       "</div>"
      ],
      "text/plain": [
       "   Rk         Player Class Pos          School   G   MP  TRB  AST  STL  ...  \\\n",
       "0   1   Amaree Abram    SO   G    Georgia Tech  10  108   17   11    1  ...   \n",
       "1   2   Sola Adebisi    FR   F   Florida State   7    9    1    1    0  ...   \n",
       "2   3  Prince Aligbe    SO   F  Boston College  35  651  119   21   15  ...   \n",
       "3   4     Abe Atiyeh    SR   G  Boston College   4    6    0    0    0  ...   \n",
       "4   5    Zack Austin    JR   F      Pittsburgh  33  746  137   29   32  ...   \n",
       "\n",
       "   TOV  PF  PTS    FG%    2P%    3P%    FT%   PER   WS  BPM  \n",
       "0    9  10   34  0.262  0.318  0.200  0.615   4.1 -0.1 -6.4  \n",
       "1    1   1    2  0.500  0.500    NaN    NaN   3.5  0.0 -6.7  \n",
       "2   30  51  164  0.435  0.522  0.147  0.620   9.4  0.9 -1.3  \n",
       "3    1   0    3  0.333  0.000  1.000    NaN   1.1  0.0 -8.2  \n",
       "4   13  35  216  0.417  0.563  0.295  0.737  18.0  2.9  7.9  \n",
       "\n",
       "[5 rows x 21 columns]"
      ]
     },
     "execution_count": 9,
     "metadata": {},
     "output_type": "execute_result"
    }
   ],
   "source": [
    "# Reading the CSV file\n",
    "import pandas as pd\n",
    "\n",
    "acc_players = pd.read_csv('C:/Users/Use This Account/Downloads/acc_players-2324F.csv', sep=',', encoding='latin1',skiprows=1)\n",
    "acc_players.head()"
   ]
  },
  {
   "cell_type": "code",
   "execution_count": 13,
   "id": "78531a12",
   "metadata": {},
   "outputs": [
    {
     "data": {
      "text/plain": [
       "38411"
      ]
     },
     "execution_count": 13,
     "metadata": {},
     "output_type": "execute_result"
    }
   ],
   "source": [
    "# Basic Analysis\n",
    "total_points=acc_players[\"PTS\"].sum()\n",
    "print(total_points)"
   ]
  },
  {
   "cell_type": "code",
   "execution_count": 17,
   "id": "d1a41973",
   "metadata": {},
   "outputs": [
    {
     "name": "stdout",
     "output_type": "stream",
     "text": [
      "Rk                  136\n",
      "Player    Casey Morsell\n",
      "Class                SR\n",
      "Pos                   G\n",
      "School         NC State\n",
      "G                    41\n",
      "MP                 1333\n",
      "TRB                 114\n",
      "AST                  67\n",
      "STL                  46\n",
      "BLK                  19\n",
      "TOV                  38\n",
      "PF                   86\n",
      "PTS                 455\n",
      "FG%               0.406\n",
      "2P%               0.478\n",
      "3P%                0.27\n",
      "FT%               0.806\n",
      "PER                13.4\n",
      "WS                  3.2\n",
      "BPM                 2.5\n",
      "Name: 135, dtype: object\n"
     ]
    }
   ],
   "source": [
    "most_minutes = acc_players.loc[acc_players['MP'].idxmax()]\n",
    "print(most_minutes)"
   ]
  },
  {
   "cell_type": "code",
   "execution_count": 19,
   "id": "4f2a3fd8",
   "metadata": {},
   "outputs": [
    {
     "name": "stdout",
     "output_type": "stream",
     "text": [
      "      Rk           Player Class Pos          School   G    MP  TRB  AST  STL  \\\n",
      "5      6    Armando Bacot    SR   F  North Carolina  37  1123  380   56   22   \n",
      "178  179  Ian Schieffelin    JR   F         Clemson  36   989  340   80   21   \n",
      "90    91  Harrison Ingram    SO   F  North Carolina  37  1213  327   80   51   \n",
      "44    45   Mohamed Diarra    SR   F        NC State  40   882  311   24   28   \n",
      "149  150    Norchad Omier    JR   F      Miami (FL)  31   948  309   38   47   \n",
      "\n",
      "     ...  TOV   PF  PTS    FG%    2P%    3P%    FT%   PER   WS  BPM  \n",
      "5    ...   60  100  538  0.540  0.544  0.400  0.781  24.6  6.1  8.9  \n",
      "178  ...   45   95  365  0.564  0.588  0.469  0.731  22.5  4.9  8.8  \n",
      "90   ...   51   71  451  0.430  0.467  0.385  0.612  18.3  4.9  8.5  \n",
      "44   ...   26   66  253  0.477  0.568  0.309  0.658  18.9  3.4  6.2  \n",
      "149  ...   72   91  528  0.552  0.598  0.353  0.750  26.8  4.7  6.6  \n",
      "\n",
      "[5 rows x 21 columns]\n"
     ]
    }
   ],
   "source": [
    "top5 = acc_players.nlargest(5, \"TRB\")\n",
    "print(top5)"
   ]
  },
  {
   "cell_type": "code",
   "execution_count": 20,
   "id": "8a2709a8",
   "metadata": {},
   "outputs": [],
   "source": [
    "# Player filtering\n",
    "new_data_frame = acc_players[acc_players[\"MP\"] > 500]"
   ]
  },
  {
   "cell_type": "code",
   "execution_count": 23,
   "id": "c23592f1",
   "metadata": {},
   "outputs": [
    {
     "name": "stdout",
     "output_type": "stream",
     "text": [
      "Rk                    8\n",
      "Player    Reece Beekman\n",
      "Class                SR\n",
      "Pos                   G\n",
      "School         Virginia\n",
      "G                    34\n",
      "MP                 1114\n",
      "TRB                 124\n",
      "AST                 212\n",
      "STL                  68\n",
      "BLK                  17\n",
      "TOV                  70\n",
      "PF                   43\n",
      "PTS                 486\n",
      "FG%               0.443\n",
      "2P%               0.487\n",
      "3P%                0.31\n",
      "FT%               0.754\n",
      "PER                23.4\n",
      "WS                  4.9\n",
      "BPM                10.5\n",
      "Name: 7, dtype: object\n"
     ]
    }
   ],
   "source": [
    "most_ast = new_data_frame.loc[new_data_frame['AST'].idxmax()]\n",
    "print(most_ast)"
   ]
  },
  {
   "cell_type": "code",
   "execution_count": 24,
   "id": "e7b47bb4",
   "metadata": {},
   "outputs": [
    {
     "name": "stdout",
     "output_type": "stream",
     "text": [
      "      Rk          Player Class Pos          School   G    MP  TRB  AST  STL  \\\n",
      "7      8   Reece Beekman    SR   G        Virginia  34  1114  124  212   68   \n",
      "215  216  Jaeden Zackery    JR   G  Boston College  36  1216  119  152   63   \n",
      "21    22   Elliot Cadeau    FR   G  North Carolina  37   882   81  150   29   \n",
      "\n",
      "     ...  TOV  PF  PTS    FG%    2P%    3P%    FT%   PER   WS   BPM  \n",
      "7    ...   70  43  486  0.443  0.487  0.310  0.754  23.4  4.9  10.5  \n",
      "215  ...   71  78  408  0.484  0.511  0.405  0.824  16.4  3.7   3.5  \n",
      "21   ...   67  84  271  0.417  0.481  0.189  0.648  11.7  2.1   1.8  \n",
      "\n",
      "[3 rows x 21 columns]\n"
     ]
    }
   ],
   "source": [
    "top_ast = new_data_frame.nlargest(3, \"AST\")\n",
    "print(top_ast)"
   ]
  },
  {
   "cell_type": "code",
   "execution_count": 25,
   "id": "2374898f",
   "metadata": {},
   "outputs": [
    {
     "name": "stdout",
     "output_type": "stream",
     "text": [
      "      Rk         Player Class Pos          School   G    MP  TRB  AST  STL  \\\n",
      "51    52      Ryan Dunn    SO   G        Virginia  34   935  235   26   44   \n",
      "157  158   Quinten Post    SR   F  Boston College  35  1115  284  100   30   \n",
      "5      6  Armando Bacot    SR   F  North Carolina  37  1123  380   56   22   \n",
      "\n",
      "     ...  TOV   PF  PTS    FG%    2P%    3P%    FT%   PER   WS  BPM  \n",
      "51   ...   28   70  276  0.548  0.618  0.200  0.532  22.0  4.2  7.2  \n",
      "157  ...   86  100  595  0.514  0.544  0.431  0.821  25.6  5.1  9.6  \n",
      "5    ...   60  100  538  0.540  0.544  0.400  0.781  24.6  6.1  8.9  \n",
      "\n",
      "[3 rows x 21 columns]\n"
     ]
    }
   ],
   "source": [
    "top_blk = new_data_frame.nlargest(3, \"BLK\")\n",
    "print(top_blk)"
   ]
  },
  {
   "cell_type": "code",
   "execution_count": 26,
   "id": "2362666d",
   "metadata": {},
   "outputs": [],
   "source": [
    "# School-based analysis"
   ]
  },
  {
   "cell_type": "code",
   "execution_count": 28,
   "id": "a4a4080f",
   "metadata": {},
   "outputs": [
    {
     "name": "stdout",
     "output_type": "stream",
     "text": [
      "School\n",
      "Boston College    2667\n",
      "Clemson           2785\n",
      "Duke              2830\n",
      "Florida State     2526\n",
      "Georgia Tech      2272\n",
      "Louisville        2304\n",
      "Miami (FL)        2424\n",
      "NC State          3101\n",
      "North Carolina    3032\n",
      "Notre Dame        2113\n",
      "Pittsburgh        2495\n",
      "Syracuse          2442\n",
      "Virginia          2140\n",
      "Virginia Tech     2547\n",
      "Wake Forest       2733\n",
      "Name: PTS, dtype: int64\n"
     ]
    }
   ],
   "source": [
    "school_points = acc_players.groupby(\"School\")[\"PTS\"].sum()\n",
    "print(school_points)"
   ]
  },
  {
   "cell_type": "code",
   "execution_count": 29,
   "id": "b97b68ae",
   "metadata": {},
   "outputs": [
    {
     "name": "stdout",
     "output_type": "stream",
     "text": [
      "School\n",
      "Boston College    509\n",
      "Clemson           533\n",
      "Duke              551\n",
      "Florida State     406\n",
      "Georgia Tech      425\n",
      "Louisville        356\n",
      "Miami (FL)        454\n",
      "NC State          536\n",
      "North Carolina    536\n",
      "Notre Dame        335\n",
      "Pittsburgh        452\n",
      "Syracuse          442\n",
      "Virginia          509\n",
      "Virginia Tech     514\n",
      "Wake Forest       429\n",
      "Name: AST, dtype: int64\n"
     ]
    }
   ],
   "source": [
    "school_ast = acc_players.groupby(\"School\")[\"AST\"].sum()\n",
    "print(school_ast)"
   ]
  },
  {
   "cell_type": "code",
   "execution_count": 31,
   "id": "956de24b",
   "metadata": {},
   "outputs": [
    {
     "data": {
      "text/plain": [
       "School\n",
       "NC State          3101\n",
       "North Carolina    3032\n",
       "Duke              2830\n",
       "Name: PTS, dtype: int64"
      ]
     },
     "execution_count": 31,
     "metadata": {},
     "output_type": "execute_result"
    }
   ],
   "source": [
    "school_points.sort_values(ascending=False).head(3)"
   ]
  },
  {
   "cell_type": "code",
   "execution_count": null,
   "id": "3f7a19f7",
   "metadata": {},
   "outputs": [],
   "source": [
    "#Reflection\n",
    "# In this assignment, I learned and worked a lot with handling data. Earlier in this course, the topics were mainly\n",
    "# focused on how databases can be structured and how to locate specific data you might need. In this assignment, we were\n",
    "# also locating specific data, but while this was occurring, the data we were working with was being paired down to only the\n",
    "# parts that we were strictly interested in. This could be very useful for projects since it can be difficult working with large\n",
    "# datasets. It is in everyone’s best interest to make things as easy and simple as possible. \n",
    "\n",
    "# The most challenging part of this assignment was that I was not used to coding in Python. It was especially confusing because\n",
    "# I have been using R recently and the two languages have a lot of overlap. There were many times when I was confused why an\n",
    "# error was being thrown and the error was because the code I was writing was meant for R. Once I realized my mistake, it was\n",
    "# simple to correct it. In addition, anything that I could not remember clearly from Python, there were plenty of free resources\n",
    "# for me to figure out how to execute what I wanted in the code.\n",
    "\n",
    "# Getting a view of these statistics on this dataset can also be done to all datasets with sports data. This information can be\n",
    "# very important to sports teams and their coaching staff. It is their job to be informed about their players and their\n",
    "# opponents. To understand how to improve, you first have to understand what you need to improve on. This idea applies to all\n",
    "# fields, including business and healthcare, which means handling data like this can be helpful in many different areas. Even\n",
    "# though this assignment was about athletes, we can apply this to our work in the future, no matter the topic."
   ]
  }
 ],
 "metadata": {
  "kernelspec": {
   "display_name": "Python 3 (ipykernel)",
   "language": "python",
   "name": "python3"
  },
  "language_info": {
   "codemirror_mode": {
    "name": "ipython",
    "version": 3
   },
   "file_extension": ".py",
   "mimetype": "text/x-python",
   "name": "python",
   "nbconvert_exporter": "python",
   "pygments_lexer": "ipython3",
   "version": "3.11.4"
  }
 },
 "nbformat": 4,
 "nbformat_minor": 5
}
