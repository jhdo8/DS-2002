{
 "cells": [
  {
   "cell_type": "code",
   "execution_count": 1,
   "id": "786ab612",
   "metadata": {},
   "outputs": [],
   "source": [
    "import os\n",
    "import json\n",
    "import pprint\n",
    "import requests\n",
    "import requests.exceptions\n",
    "import pandas as pd"
   ]
  },
  {
   "cell_type": "code",
   "execution_count": 2,
   "id": "bf313c36",
   "metadata": {},
   "outputs": [
    {
     "name": "stdout",
     "output_type": "stream",
     "text": [
      "Enter stock ticker: AAPL\n"
     ]
    }
   ],
   "source": [
    "stock = input(\"Enter stock ticker: \")"
   ]
  },
  {
   "cell_type": "code",
   "execution_count": 3,
   "id": "5ec0d492",
   "metadata": {},
   "outputs": [],
   "source": [
    "apikey=\"EXjTead34W2WK09cgutAc4u10stA3u1R1J6w8sV4\"\n",
    "\n",
    "url = \"https://yfapi.net/v6/finance/quote\"\n",
    "\n",
    "querystring = {\"symbols\":stock}\n",
    "\n",
    "headers = {\n",
    "    'x-api-key': apikey\n",
    "    }"
   ]
  },
  {
   "cell_type": "code",
   "execution_count": 4,
   "id": "3c1dba1b",
   "metadata": {},
   "outputs": [
    {
     "name": "stdout",
     "output_type": "stream",
     "text": [
      "Ticker: AAPL\n",
      "Full Name: Apple Inc.\n",
      "Current Market Price: $227.79\n",
      "Target Mean Price: $N/A\n",
      "52 Week High: $237.23\n",
      "52 Week Low: $164.08\n",
      "\n",
      "Current Trending Stocks:\n",
      "BTC-USD\n",
      "XRP-USD\n",
      "DOGE-USD\n",
      "SCHD\n",
      "NNN\n",
      "\n",
      "Stock information saved to stock_info.csv.\n"
     ]
    }
   ],
   "source": [
    "try:\n",
    "    response = requests.get(url, headers=headers, params=querystring)\n",
    "    response.raise_for_status()\n",
    "    stock_json = response.json()\n",
    "\n",
    "    if 'quoteResponse' in stock_json and len(stock_json['quoteResponse']['result']) > 0:\n",
    "        \n",
    "        # ticker and 5 variables\n",
    "        stock_data = stock_json['quoteResponse']['result'][0]\n",
    "        ticker = stock_data.get('symbol', 'N/A')\n",
    "        print(f\"Ticker: {ticker}\")\n",
    "        full_name = stock_data.get('longName', 'N/A')\n",
    "        print(f\"Full Name: {full_name}\")\n",
    "        current_price = stock_data.get('regularMarketPrice', 'N/A')\n",
    "        print(f\"Current Market Price: ${current_price}\")\n",
    "        target_mean_price = stock_data.get('targetMeanPrice', 'N/A')\n",
    "        print(f\"Target Mean Price: ${target_mean_price}\")\n",
    "        week_high = stock_data.get('fiftyTwoWeekHigh', 'N/A')\n",
    "        print(f\"52 Week High: ${week_high}\")\n",
    "        week_low = stock_data.get('fiftyTwoWeekLow', 'N/A')\n",
    "        print(f\"52 Week Low: ${week_low}\")\n",
    "        \n",
    "        # 5 trending \n",
    "        trending_url = \"https://yfapi.net/v1/finance/trending/US\"\n",
    "        trending_response = requests.get(trending_url, headers=headers)\n",
    "        trending_response.raise_for_status()\n",
    "        trending_json = trending_response.json()\n",
    "\n",
    "        if 'finance' in trending_json and 'result' in trending_json['finance'] and len(trending_json['finance']['result']) > 0:\n",
    "            trending_stocks = trending_json['finance']['result'][0]['quotes']\n",
    "            print(\"\\nCurrent Trending Stocks:\")\n",
    "            trending_symbols = []\n",
    "            for stock in trending_stocks[:5]:\n",
    "                print(f\"{stock['symbol']}\")\n",
    "                trending_symbols.append(stock['symbol'])\n",
    "        else:\n",
    "            print(\"No trending stock information available.\")\n",
    "        \n",
    "        data = {\"Ticker\": [ticker], \"Full Name\": [full_name], \"Current Price\": [current_price], \"Target Mean Price\": [target_mean_price], \"52 Week High\": [week_high], \"52 Week Low\": [week_low]}\n",
    "        \n",
    "        df = pd.DataFrame(data)\n",
    "        df.to_csv(\"stock_info.csv\", index=False)\n",
    "        print(\"\\nStock information saved to stock_info.csv.\")\n",
    "\n",
    "    else:\n",
    "        print(f\"No data available for the stock ticker '{stock}'. Please check the symbol and try again.\")\n",
    " \n",
    "except requests.exceptions.HTTPError as http_err:\n",
    "    print(f\"HTTP error occurred: {http_err}\")\n",
    "except Exception as err:\n",
    "    print(f\"An error occurred: {err}\")\n"
   ]
  }
 ],
 "metadata": {
  "kernelspec": {
   "display_name": "Python 3 (ipykernel)",
   "language": "python",
   "name": "python3"
  },
  "language_info": {
   "codemirror_mode": {
    "name": "ipython",
    "version": 3
   },
   "file_extension": ".py",
   "mimetype": "text/x-python",
   "name": "python",
   "nbconvert_exporter": "python",
   "pygments_lexer": "ipython3",
   "version": "3.11.4"
  }
 },
 "nbformat": 4,
 "nbformat_minor": 5
}
