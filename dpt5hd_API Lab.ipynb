{
 "cells": [
  {
   "cell_type": "code",
   "execution_count": 1,
   "id": "47bc4397",
   "metadata": {},
   "outputs": [],
   "source": [
    "import requests\n",
    "import json\n",
    "import pandas as pd"
   ]
  },
  {
   "cell_type": "code",
   "execution_count": 2,
   "id": "d6f776cb",
   "metadata": {},
   "outputs": [
    {
     "name": "stdout",
     "output_type": "stream",
     "text": [
      "AAPL\n"
     ]
    }
   ],
   "source": [
    "#get stock from the user\n",
    "stock=input()"
   ]
  },
  {
   "cell_type": "code",
   "execution_count": 4,
   "id": "a5e72583",
   "metadata": {},
   "outputs": [
    {
     "name": "stdout",
     "output_type": "stream",
     "text": [
      "The Stock we will research is:AAPL\n"
     ]
    }
   ],
   "source": [
    "print(\"The Stock we will research is:\" + stock)"
   ]
  },
  {
   "cell_type": "code",
   "execution_count": 5,
   "id": "c0a3b360",
   "metadata": {},
   "outputs": [
    {
     "name": "stdout",
     "output_type": "stream",
     "text": [
      "{\"quoteResponse\":{\"result\":[{\"language\":\"en-US\",\"region\":\"US\",\"quoteType\":\"EQUITY\",\"typeDisp\":\"Equity\",\"quoteSourceName\":\"Nasdaq Real Time Price\",\"triggerable\":true,\"customPriceAlertConfidence\":\"HIGH\",\"regularMarketDayLow\":227.3,\"regularMarketVolume\":17853757,\"regularMarketPreviousClose\":227.52,\"bid\":227.71,\"ask\":228.18,\"bidSize\":1,\"askSize\":1,\"fullExchangeName\":\"NasdaqGS\",\"financialCurrency\":\"USD\",\"regularMarketOpen\":228.43,\"averageDailyVolume3Month\":55583992,\"averageDailyVolume10Day\":76355650,\"dividendRate\":1.0,\"trailingAnnualDividendYield\":0.0042633615,\"dividendYield\":0.44,\"epsTrailingTwelveMonths\":6.56,\"epsForward\":7.48,\"epsCurrentYear\":6.7,\"priceEpsCurrentYear\":34.021645,\"twoHundredDayAverageChangePercent\":0.1570343,\"hasPrePostMarketData\":true,\"firstTradeDateMilliseconds\":345479400000,\"priceHint\":2,\"currency\":\"USD\",\"earningsTimestamp\":1722544200,\"earningsTimestampStart\":1730372340,\"earningsTimestampEnd\":1730721600,\"earningsCallTimestampStart\":1722546000,\"earningsCallTimestampEnd\":1722546000,\"isEarningsDateEstimate\":true,\"trailingAnnualDividendRate\":0.97,\"trailingPE\":34.747715,\"regularMarketChange\":0.42500305,\"regularMarketTime\":1727460906,\"regularMarketDayHigh\":229.52,\"regularMarketDayRange\":\"227.3 - 229.52\",\"fiftyTwoWeekLowChange\":63.865005,\"fiftyTwoWeekLowChangePercent\":0.3892309,\"fiftyTwoWeekRange\":\"164.08 - 237.23\",\"fiftyTwoWeekHighChange\":-9.284988,\"fiftyTwoWeekHighChangePercent\":-0.039139185,\"fiftyTwoWeekLow\":164.08,\"fiftyTwoWeekHigh\":237.23,\"fiftyTwoWeekChangePercent\":32.88944,\"dividendDate\":1723680000,\"sharesOutstanding\":15204100096,\"bookValue\":4.382,\"fiftyDayAverage\":222.0196,\"fiftyDayAverageChange\":5.9254,\"fiftyDayAverageChangePercent\":0.026688633,\"twoHundredDayAverage\":197.008,\"twoHundredDayAverageChange\":30.937012,\"marketCap\":3465698607104,\"forwardPE\":30.473932,\"priceToBook\":52.018486,\"sourceInterval\":15,\"exchangeDataDelayedBy\":0,\"marketState\":\"REGULAR\",\"averageAnalystRating\":\"2.0 - Buy\",\"tradeable\":false,\"cryptoTradeable\":false,\"exchange\":\"NMS\",\"shortName\":\"Apple Inc.\",\"longName\":\"Apple Inc.\",\"messageBoardId\":\"finmb_24937\",\"exchangeTimezoneName\":\"America/New_York\",\"exchangeTimezoneShortName\":\"EDT\",\"gmtOffSetMilliseconds\":-14400000,\"market\":\"us_market\",\"esgPopulated\":false,\"regularMarketChangePercent\":0.1867981,\"regularMarketPrice\":227.945,\"displayName\":\"Apple\",\"symbol\":\"AAPL\"}],\"error\":null}}\n"
     ]
    }
   ],
   "source": [
    "apikey=\"API key\"\n",
    "\n",
    "url = \"https://yfapi.net/v6/finance/quote\"\n",
    "\n",
    "querystring = {\"symbols\":stock}\n",
    "\n",
    "headers = {\n",
    "    'x-api-key': apikey\n",
    "    }\n",
    "\n",
    "response = requests.request(\"GET\", url, headers=headers, params=querystring)\n",
    "\n",
    "print(response.text)"
   ]
  },
  {
   "cell_type": "code",
   "execution_count": 6,
   "id": "131aeb98",
   "metadata": {},
   "outputs": [
    {
     "name": "stdout",
     "output_type": "stream",
     "text": [
      "API request successful!\n"
     ]
    }
   ],
   "source": [
    "if response.status_code == 200:\n",
    "    print(\"API request successful!\")\n",
    "else:\n",
    "    print(f\"Failed to retrieve data: {response.status_code}\")\n"
   ]
  },
  {
   "cell_type": "code",
   "execution_count": 7,
   "id": "a055326a",
   "metadata": {},
   "outputs": [
    {
     "name": "stdout",
     "output_type": "stream",
     "text": [
      "Apple Inc. Price:$227.945\n"
     ]
    }
   ],
   "source": [
    "#print the company name and price\n",
    "stock_json = response.json()\n",
    "print(stock_json['quoteResponse']['result'][0][\"longName\"] + \" Price:$\" + str(stock_json['quoteResponse']['result'][0][\"regularMarketPrice\"]))\n",
    "     "
   ]
  },
  {
   "cell_type": "code",
   "execution_count": 8,
   "id": "48a39bb0",
   "metadata": {},
   "outputs": [
    {
     "name": "stdout",
     "output_type": "stream",
     "text": [
      "Input Stocks:NFLX, NKE, T, PEP, MRK, IBM, ORCL, MCD\n"
     ]
    }
   ],
   "source": [
    "user_request = input(\"Input Stocks:\")"
   ]
  },
  {
   "cell_type": "code",
   "execution_count": 9,
   "id": "77aaf031",
   "metadata": {},
   "outputs": [
    {
     "name": "stdout",
     "output_type": "stream",
     "text": [
      "Netflix, Inc. (Symbol: NFLX): Price: $708.75\n",
      "NIKE, Inc. (Symbol: NKE): Price: $89.8374\n",
      "AT&T Inc. (Symbol: T): Price: $21.8749\n",
      "PepsiCo, Inc. (Symbol: PEP): Price: $170.03\n",
      "Merck & Co., Inc. (Symbol: MRK): Price: $113.26\n",
      "International Business Machines Corporation (Symbol: IBM): Price: $221.985\n",
      "Oracle Corporation (Symbol: ORCL): Price: $168.045\n",
      "McDonald's Corporation (Symbol: MCD): Price: $304.6\n"
     ]
    }
   ],
   "source": [
    "stocks = [user_request.strip().upper() for user_request in user_request.split(',')]\n",
    "for each in stocks:\n",
    "    querystring = {\"symbols\": each}\n",
    "    response = requests.get(url, headers=headers, params=querystring)\n",
    "\n",
    "    if response.status_code == 200:\n",
    "        stock_json = response.json()\n",
    "\n",
    "        if 'quoteResponse' in stock_json and 'result' in stock_json['quoteResponse']:\n",
    "            results = stock_json['quoteResponse']['result']\n",
    "\n",
    "            for stock_info in results:\n",
    "                name = stock_info.get('longName', 'N/A')\n",
    "                price = stock_info.get('regularMarketPrice', 'N/A')\n",
    "                print(f\"{name} (Symbol: {stock_info['symbol']}): Price: ${price}\")\n",
    "        else:\n",
    "            print(f\"No data found for {each}\")\n",
    "    else:\n",
    "        print(f\"Failed to retrieve data for {each}. Status code: {response.status_code}\")"
   ]
  }
 ],
 "metadata": {
  "kernelspec": {
   "display_name": "Python 3 (ipykernel)",
   "language": "python",
   "name": "python3"
  },
  "language_info": {
   "codemirror_mode": {
    "name": "ipython",
    "version": 3
   },
   "file_extension": ".py",
   "mimetype": "text/x-python",
   "name": "python",
   "nbconvert_exporter": "python",
   "pygments_lexer": "ipython3",
   "version": "3.11.4"
  }
 },
 "nbformat": 4,
 "nbformat_minor": 5
}
